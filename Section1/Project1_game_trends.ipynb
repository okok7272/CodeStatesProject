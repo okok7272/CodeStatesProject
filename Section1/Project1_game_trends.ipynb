{
  "nbformat": 4,
  "nbformat_minor": 0,
  "metadata": {
    "colab": {
      "name": "PROJECT1.ipynb",
      "provenance": [],
      "toc_visible": true
    },
    "kernelspec": {
      "name": "python3",
      "display_name": "Python 3"
    },
    "language_info": {
      "name": "python"
    }
  },
  "cells": [
    {
      "cell_type": "code",
      "execution_count": null,
      "metadata": {
        "id": "BSzhJRWjrohJ"
      },
      "outputs": [],
      "source": [
        ""
      ]
    },
    {
      "cell_type": "markdown",
      "source": [
        "\n",
        "##*SECTION 1*##\n",
        "---\n",
        "# PROJECT\n",
        "AI 14 강인구"
      ],
      "metadata": {
        "id": "JkGOK0vmrpwi"
      }
    },
    {
      "cell_type": "markdown",
      "source": [
        "이번 노트는 아래의 구성으로 이뤄져 있습니다.\n",
        "\n",
        "- **Part 0. Introduction** </br>\n",
        "  0-1. 기획 배경\n",
        "\n",
        "- **Part 1. EDA** </br>\n",
        "  1-1. Data Description\n",
        "\n",
        "- **Part 2. EDA** </br>\n",
        "  2-1. 데이터 정제 </br>\n",
        "  2-2. Feature Engineering </br>\n",
        "  2-3. Log Transformation </br>\n",
        "  2-4. Data Scaling </br>\n",
        "\n",
        "- **Part 3. Build Clustering Model** </br>\n",
        "  3-1. K-Means Clustering </br>\n",
        "  3-2. Elbow Method </br>\n",
        "\n",
        "- **Part 4. 클러스터별 특징 분석**\n",
        "\n",
        "---"
      ],
      "metadata": {
        "id": "e4TdGDm9uz1R"
      }
    },
    {
      "cell_type": "markdown",
      "source": [
        "# PART 0. Introduction"
      ],
      "metadata": {
        "id": "PZfXcXBQrv5N"
      }
    },
    {
      "cell_type": "markdown",
      "source": [
        "###**1. 기획배경**"
      ],
      "metadata": {
        "id": "x2qqHOHiZQOu"
      }
    },
    {
      "cell_type": "markdown",
      "source": [
        "다음 분기에 어떤 게임을 설계해야 할까\n",
        "\n",
        "대상자: 비데이터 직군"
      ],
      "metadata": {
        "id": "DmfWZNv4ZZcI"
      }
    },
    {
      "cell_type": "markdown",
      "source": [
        "*  Sprint 1 : EDA, Feature Engineering, Data Manipulation, Data Visualization\n",
        "*  Sprint 2 : Hypothesis Test, CI, Bayesian, AB Test\n",
        "*  Sprint 3 : DR, PCA, Clustering, GD"
      ],
      "metadata": {
        "id": "ZFVj_khLZsoX"
      }
    },
    {
      "cell_type": "markdown",
      "source": [
        "최근 연도 플롯 불러와서 판매량 확인\n"
      ],
      "metadata": {
        "id": "tN0wCdJ4bYdS"
      }
    },
    {
      "cell_type": "code",
      "source": [
        ""
      ],
      "metadata": {
        "id": "VN2Vj7PIbXgv"
      },
      "execution_count": null,
      "outputs": []
    },
    {
      "cell_type": "markdown",
      "source": [
        "가설검정 : 연도별과 게임 장르별 영향이 있다?\n",
        "\n",
        "최근 유행 트랜드 조사\n",
        "\n",
        "많이 팔린 게임 조사\n",
        "\n",
        "->많이 팔린 게임 데이터를 분류해서 게임의 장르를 확인한다.\n",
        "\n",
        "->장르별 구분해서 판매량 연도 확인 데이터를 종합해서\n",
        "\n",
        "\n"
      ],
      "metadata": {
        "id": "bIoW0bvfZ3iK"
      }
    },
    {
      "cell_type": "code",
      "source": [
        "# 라이브러리 불러오기\n",
        "import numpy as np\n",
        "import pandas as pd\n",
        "import matplotlib.pyplot as plt\n",
        "import seaborn as sns\n",
        "\n",
        "import sklearn"
      ],
      "metadata": {
        "id": "ChLJX2qnvjtG"
      },
      "execution_count": 1,
      "outputs": []
    },
    {
      "cell_type": "code",
      "source": [
        "# 파일 불러오기 (local에서 업로드)\n",
        "from google.colab import files\n",
        "files.upload()"
      ],
      "metadata": {
        "id": "SkkminqGvr7a"
      },
      "execution_count": null,
      "outputs": []
    },
    {
      "cell_type": "code",
      "source": [
        "games = pd.read_csv('vgames2.csv', sep=\",\")\n",
        "games.head()"
      ],
      "metadata": {
        "colab": {
          "base_uri": "https://localhost:8080/",
          "height": 206
        },
        "id": "UT5pubf3vzf2",
        "outputId": "89009f45-2da9-427b-807d-23231fb6d4d3"
      },
      "execution_count": 3,
      "outputs": [
        {
          "output_type": "execute_result",
          "data": {
            "text/plain": [
              "   Unnamed: 0                                            Name Platform  \\\n",
              "0           1                    Candace Kane's Candy Factory       DS   \n",
              "1           2                                  The Munchables      Wii   \n",
              "2           3  Otome wa Oanesama Boku ni Koi Shiteru Portable      PSP   \n",
              "3           4                Deal or No Deal: Special Edition       DS   \n",
              "4           5       Ben 10 Ultimate Alien: Cosmic Destruction      PS3   \n",
              "\n",
              "     Year      Genre           Publisher NA_Sales EU_Sales JP_Sales  \\\n",
              "0  2008.0     Action           Destineer     0.04        0        0   \n",
              "1  2009.0     Action  Namco Bandai Games     0.17        0        0   \n",
              "2  2010.0  Adventure           Alchemist        0        0     0.02   \n",
              "3  2010.0       Misc           Zoo Games     0.04        0        0   \n",
              "4  2010.0   Platform         D3Publisher     0.12     0.09        0   \n",
              "\n",
              "  Other_Sales  \n",
              "0           0  \n",
              "1        0.01  \n",
              "2           0  \n",
              "3           0  \n",
              "4        0.04  "
            ],
            "text/html": [
              "\n",
              "  <div id=\"df-a919aceb-0df4-4177-b0e9-7bb0d8a0d8c4\">\n",
              "    <div class=\"colab-df-container\">\n",
              "      <div>\n",
              "<style scoped>\n",
              "    .dataframe tbody tr th:only-of-type {\n",
              "        vertical-align: middle;\n",
              "    }\n",
              "\n",
              "    .dataframe tbody tr th {\n",
              "        vertical-align: top;\n",
              "    }\n",
              "\n",
              "    .dataframe thead th {\n",
              "        text-align: right;\n",
              "    }\n",
              "</style>\n",
              "<table border=\"1\" class=\"dataframe\">\n",
              "  <thead>\n",
              "    <tr style=\"text-align: right;\">\n",
              "      <th></th>\n",
              "      <th>Unnamed: 0</th>\n",
              "      <th>Name</th>\n",
              "      <th>Platform</th>\n",
              "      <th>Year</th>\n",
              "      <th>Genre</th>\n",
              "      <th>Publisher</th>\n",
              "      <th>NA_Sales</th>\n",
              "      <th>EU_Sales</th>\n",
              "      <th>JP_Sales</th>\n",
              "      <th>Other_Sales</th>\n",
              "    </tr>\n",
              "  </thead>\n",
              "  <tbody>\n",
              "    <tr>\n",
              "      <th>0</th>\n",
              "      <td>1</td>\n",
              "      <td>Candace Kane's Candy Factory</td>\n",
              "      <td>DS</td>\n",
              "      <td>2008.0</td>\n",
              "      <td>Action</td>\n",
              "      <td>Destineer</td>\n",
              "      <td>0.04</td>\n",
              "      <td>0</td>\n",
              "      <td>0</td>\n",
              "      <td>0</td>\n",
              "    </tr>\n",
              "    <tr>\n",
              "      <th>1</th>\n",
              "      <td>2</td>\n",
              "      <td>The Munchables</td>\n",
              "      <td>Wii</td>\n",
              "      <td>2009.0</td>\n",
              "      <td>Action</td>\n",
              "      <td>Namco Bandai Games</td>\n",
              "      <td>0.17</td>\n",
              "      <td>0</td>\n",
              "      <td>0</td>\n",
              "      <td>0.01</td>\n",
              "    </tr>\n",
              "    <tr>\n",
              "      <th>2</th>\n",
              "      <td>3</td>\n",
              "      <td>Otome wa Oanesama Boku ni Koi Shiteru Portable</td>\n",
              "      <td>PSP</td>\n",
              "      <td>2010.0</td>\n",
              "      <td>Adventure</td>\n",
              "      <td>Alchemist</td>\n",
              "      <td>0</td>\n",
              "      <td>0</td>\n",
              "      <td>0.02</td>\n",
              "      <td>0</td>\n",
              "    </tr>\n",
              "    <tr>\n",
              "      <th>3</th>\n",
              "      <td>4</td>\n",
              "      <td>Deal or No Deal: Special Edition</td>\n",
              "      <td>DS</td>\n",
              "      <td>2010.0</td>\n",
              "      <td>Misc</td>\n",
              "      <td>Zoo Games</td>\n",
              "      <td>0.04</td>\n",
              "      <td>0</td>\n",
              "      <td>0</td>\n",
              "      <td>0</td>\n",
              "    </tr>\n",
              "    <tr>\n",
              "      <th>4</th>\n",
              "      <td>5</td>\n",
              "      <td>Ben 10 Ultimate Alien: Cosmic Destruction</td>\n",
              "      <td>PS3</td>\n",
              "      <td>2010.0</td>\n",
              "      <td>Platform</td>\n",
              "      <td>D3Publisher</td>\n",
              "      <td>0.12</td>\n",
              "      <td>0.09</td>\n",
              "      <td>0</td>\n",
              "      <td>0.04</td>\n",
              "    </tr>\n",
              "  </tbody>\n",
              "</table>\n",
              "</div>\n",
              "      <button class=\"colab-df-convert\" onclick=\"convertToInteractive('df-a919aceb-0df4-4177-b0e9-7bb0d8a0d8c4')\"\n",
              "              title=\"Convert this dataframe to an interactive table.\"\n",
              "              style=\"display:none;\">\n",
              "        \n",
              "  <svg xmlns=\"http://www.w3.org/2000/svg\" height=\"24px\"viewBox=\"0 0 24 24\"\n",
              "       width=\"24px\">\n",
              "    <path d=\"M0 0h24v24H0V0z\" fill=\"none\"/>\n",
              "    <path d=\"M18.56 5.44l.94 2.06.94-2.06 2.06-.94-2.06-.94-.94-2.06-.94 2.06-2.06.94zm-11 1L8.5 8.5l.94-2.06 2.06-.94-2.06-.94L8.5 2.5l-.94 2.06-2.06.94zm10 10l.94 2.06.94-2.06 2.06-.94-2.06-.94-.94-2.06-.94 2.06-2.06.94z\"/><path d=\"M17.41 7.96l-1.37-1.37c-.4-.4-.92-.59-1.43-.59-.52 0-1.04.2-1.43.59L10.3 9.45l-7.72 7.72c-.78.78-.78 2.05 0 2.83L4 21.41c.39.39.9.59 1.41.59.51 0 1.02-.2 1.41-.59l7.78-7.78 2.81-2.81c.8-.78.8-2.07 0-2.86zM5.41 20L4 18.59l7.72-7.72 1.47 1.35L5.41 20z\"/>\n",
              "  </svg>\n",
              "      </button>\n",
              "      \n",
              "  <style>\n",
              "    .colab-df-container {\n",
              "      display:flex;\n",
              "      flex-wrap:wrap;\n",
              "      gap: 12px;\n",
              "    }\n",
              "\n",
              "    .colab-df-convert {\n",
              "      background-color: #E8F0FE;\n",
              "      border: none;\n",
              "      border-radius: 50%;\n",
              "      cursor: pointer;\n",
              "      display: none;\n",
              "      fill: #1967D2;\n",
              "      height: 32px;\n",
              "      padding: 0 0 0 0;\n",
              "      width: 32px;\n",
              "    }\n",
              "\n",
              "    .colab-df-convert:hover {\n",
              "      background-color: #E2EBFA;\n",
              "      box-shadow: 0px 1px 2px rgba(60, 64, 67, 0.3), 0px 1px 3px 1px rgba(60, 64, 67, 0.15);\n",
              "      fill: #174EA6;\n",
              "    }\n",
              "\n",
              "    [theme=dark] .colab-df-convert {\n",
              "      background-color: #3B4455;\n",
              "      fill: #D2E3FC;\n",
              "    }\n",
              "\n",
              "    [theme=dark] .colab-df-convert:hover {\n",
              "      background-color: #434B5C;\n",
              "      box-shadow: 0px 1px 3px 1px rgba(0, 0, 0, 0.15);\n",
              "      filter: drop-shadow(0px 1px 2px rgba(0, 0, 0, 0.3));\n",
              "      fill: #FFFFFF;\n",
              "    }\n",
              "  </style>\n",
              "\n",
              "      <script>\n",
              "        const buttonEl =\n",
              "          document.querySelector('#df-a919aceb-0df4-4177-b0e9-7bb0d8a0d8c4 button.colab-df-convert');\n",
              "        buttonEl.style.display =\n",
              "          google.colab.kernel.accessAllowed ? 'block' : 'none';\n",
              "\n",
              "        async function convertToInteractive(key) {\n",
              "          const element = document.querySelector('#df-a919aceb-0df4-4177-b0e9-7bb0d8a0d8c4');\n",
              "          const dataTable =\n",
              "            await google.colab.kernel.invokeFunction('convertToInteractive',\n",
              "                                                     [key], {});\n",
              "          if (!dataTable) return;\n",
              "\n",
              "          const docLinkHtml = 'Like what you see? Visit the ' +\n",
              "            '<a target=\"_blank\" href=https://colab.research.google.com/notebooks/data_table.ipynb>data table notebook</a>'\n",
              "            + ' to learn more about interactive tables.';\n",
              "          element.innerHTML = '';\n",
              "          dataTable['output_type'] = 'display_data';\n",
              "          await google.colab.output.renderOutput(dataTable, element);\n",
              "          const docLink = document.createElement('div');\n",
              "          docLink.innerHTML = docLinkHtml;\n",
              "          element.appendChild(docLink);\n",
              "        }\n",
              "      </script>\n",
              "    </div>\n",
              "  </div>\n",
              "  "
            ]
          },
          "metadata": {},
          "execution_count": 3
        }
      ]
    },
    {
      "cell_type": "code",
      "source": [
        "#첫번째 unnamed:0은 인덱스와 겹치기에 삭제\n",
        "games= games.drop(games.columns[[0]],axis=1)\n",
        "games"
      ],
      "metadata": {
        "colab": {
          "base_uri": "https://localhost:8080/",
          "height": 424
        },
        "id": "eJDzlPhgwerw",
        "outputId": "18b0ead9-cd93-4365-81ad-c268cd769f72"
      },
      "execution_count": 4,
      "outputs": [
        {
          "output_type": "execute_result",
          "data": {
            "text/plain": [
              "                                                 Name Platform    Year  \\\n",
              "0                        Candace Kane's Candy Factory       DS  2008.0   \n",
              "1                                      The Munchables      Wii  2009.0   \n",
              "2      Otome wa Oanesama Boku ni Koi Shiteru Portable      PSP  2010.0   \n",
              "3                    Deal or No Deal: Special Edition       DS  2010.0   \n",
              "4           Ben 10 Ultimate Alien: Cosmic Destruction      PS3  2010.0   \n",
              "...                                               ...      ...     ...   \n",
              "16593                         Ice Age 2: The Meltdown       GC  2006.0   \n",
              "16594                     Rainbow Islands: Revolution      PSP  2005.0   \n",
              "16595                                        NBA 2K16      PS3  2015.0   \n",
              "16596                     Toukiden: The Age of Demons      PSV  2013.0   \n",
              "16597                        The King of Fighters '95       PS  1996.0   \n",
              "\n",
              "           Genre                    Publisher NA_Sales EU_Sales JP_Sales  \\\n",
              "0         Action                    Destineer     0.04        0        0   \n",
              "1         Action           Namco Bandai Games     0.17        0        0   \n",
              "2      Adventure                    Alchemist        0        0     0.02   \n",
              "3           Misc                    Zoo Games     0.04        0        0   \n",
              "4       Platform                  D3Publisher     0.12     0.09        0   \n",
              "...          ...                          ...      ...      ...      ...   \n",
              "16593   Platform                Vivendi Games     0.15     0.04        0   \n",
              "16594     Action            Rising Star Games     0.01        0        0   \n",
              "16595     Sports         Take-Two Interactive     0.44     0.19     0.03   \n",
              "16596     Action                   Tecmo Koei     0.05     0.05     0.25   \n",
              "16597   Fighting  Sony Computer Entertainment        0        0     0.16   \n",
              "\n",
              "      Other_Sales  \n",
              "0               0  \n",
              "1            0.01  \n",
              "2               0  \n",
              "3               0  \n",
              "4            0.04  \n",
              "...           ...  \n",
              "16593        0.01  \n",
              "16594           0  \n",
              "16595        0.13  \n",
              "16596        0.03  \n",
              "16597        0.01  \n",
              "\n",
              "[16598 rows x 9 columns]"
            ],
            "text/html": [
              "\n",
              "  <div id=\"df-bec8e249-69e7-44fc-b614-298c5368f464\">\n",
              "    <div class=\"colab-df-container\">\n",
              "      <div>\n",
              "<style scoped>\n",
              "    .dataframe tbody tr th:only-of-type {\n",
              "        vertical-align: middle;\n",
              "    }\n",
              "\n",
              "    .dataframe tbody tr th {\n",
              "        vertical-align: top;\n",
              "    }\n",
              "\n",
              "    .dataframe thead th {\n",
              "        text-align: right;\n",
              "    }\n",
              "</style>\n",
              "<table border=\"1\" class=\"dataframe\">\n",
              "  <thead>\n",
              "    <tr style=\"text-align: right;\">\n",
              "      <th></th>\n",
              "      <th>Name</th>\n",
              "      <th>Platform</th>\n",
              "      <th>Year</th>\n",
              "      <th>Genre</th>\n",
              "      <th>Publisher</th>\n",
              "      <th>NA_Sales</th>\n",
              "      <th>EU_Sales</th>\n",
              "      <th>JP_Sales</th>\n",
              "      <th>Other_Sales</th>\n",
              "    </tr>\n",
              "  </thead>\n",
              "  <tbody>\n",
              "    <tr>\n",
              "      <th>0</th>\n",
              "      <td>Candace Kane's Candy Factory</td>\n",
              "      <td>DS</td>\n",
              "      <td>2008.0</td>\n",
              "      <td>Action</td>\n",
              "      <td>Destineer</td>\n",
              "      <td>0.04</td>\n",
              "      <td>0</td>\n",
              "      <td>0</td>\n",
              "      <td>0</td>\n",
              "    </tr>\n",
              "    <tr>\n",
              "      <th>1</th>\n",
              "      <td>The Munchables</td>\n",
              "      <td>Wii</td>\n",
              "      <td>2009.0</td>\n",
              "      <td>Action</td>\n",
              "      <td>Namco Bandai Games</td>\n",
              "      <td>0.17</td>\n",
              "      <td>0</td>\n",
              "      <td>0</td>\n",
              "      <td>0.01</td>\n",
              "    </tr>\n",
              "    <tr>\n",
              "      <th>2</th>\n",
              "      <td>Otome wa Oanesama Boku ni Koi Shiteru Portable</td>\n",
              "      <td>PSP</td>\n",
              "      <td>2010.0</td>\n",
              "      <td>Adventure</td>\n",
              "      <td>Alchemist</td>\n",
              "      <td>0</td>\n",
              "      <td>0</td>\n",
              "      <td>0.02</td>\n",
              "      <td>0</td>\n",
              "    </tr>\n",
              "    <tr>\n",
              "      <th>3</th>\n",
              "      <td>Deal or No Deal: Special Edition</td>\n",
              "      <td>DS</td>\n",
              "      <td>2010.0</td>\n",
              "      <td>Misc</td>\n",
              "      <td>Zoo Games</td>\n",
              "      <td>0.04</td>\n",
              "      <td>0</td>\n",
              "      <td>0</td>\n",
              "      <td>0</td>\n",
              "    </tr>\n",
              "    <tr>\n",
              "      <th>4</th>\n",
              "      <td>Ben 10 Ultimate Alien: Cosmic Destruction</td>\n",
              "      <td>PS3</td>\n",
              "      <td>2010.0</td>\n",
              "      <td>Platform</td>\n",
              "      <td>D3Publisher</td>\n",
              "      <td>0.12</td>\n",
              "      <td>0.09</td>\n",
              "      <td>0</td>\n",
              "      <td>0.04</td>\n",
              "    </tr>\n",
              "    <tr>\n",
              "      <th>...</th>\n",
              "      <td>...</td>\n",
              "      <td>...</td>\n",
              "      <td>...</td>\n",
              "      <td>...</td>\n",
              "      <td>...</td>\n",
              "      <td>...</td>\n",
              "      <td>...</td>\n",
              "      <td>...</td>\n",
              "      <td>...</td>\n",
              "    </tr>\n",
              "    <tr>\n",
              "      <th>16593</th>\n",
              "      <td>Ice Age 2: The Meltdown</td>\n",
              "      <td>GC</td>\n",
              "      <td>2006.0</td>\n",
              "      <td>Platform</td>\n",
              "      <td>Vivendi Games</td>\n",
              "      <td>0.15</td>\n",
              "      <td>0.04</td>\n",
              "      <td>0</td>\n",
              "      <td>0.01</td>\n",
              "    </tr>\n",
              "    <tr>\n",
              "      <th>16594</th>\n",
              "      <td>Rainbow Islands: Revolution</td>\n",
              "      <td>PSP</td>\n",
              "      <td>2005.0</td>\n",
              "      <td>Action</td>\n",
              "      <td>Rising Star Games</td>\n",
              "      <td>0.01</td>\n",
              "      <td>0</td>\n",
              "      <td>0</td>\n",
              "      <td>0</td>\n",
              "    </tr>\n",
              "    <tr>\n",
              "      <th>16595</th>\n",
              "      <td>NBA 2K16</td>\n",
              "      <td>PS3</td>\n",
              "      <td>2015.0</td>\n",
              "      <td>Sports</td>\n",
              "      <td>Take-Two Interactive</td>\n",
              "      <td>0.44</td>\n",
              "      <td>0.19</td>\n",
              "      <td>0.03</td>\n",
              "      <td>0.13</td>\n",
              "    </tr>\n",
              "    <tr>\n",
              "      <th>16596</th>\n",
              "      <td>Toukiden: The Age of Demons</td>\n",
              "      <td>PSV</td>\n",
              "      <td>2013.0</td>\n",
              "      <td>Action</td>\n",
              "      <td>Tecmo Koei</td>\n",
              "      <td>0.05</td>\n",
              "      <td>0.05</td>\n",
              "      <td>0.25</td>\n",
              "      <td>0.03</td>\n",
              "    </tr>\n",
              "    <tr>\n",
              "      <th>16597</th>\n",
              "      <td>The King of Fighters '95</td>\n",
              "      <td>PS</td>\n",
              "      <td>1996.0</td>\n",
              "      <td>Fighting</td>\n",
              "      <td>Sony Computer Entertainment</td>\n",
              "      <td>0</td>\n",
              "      <td>0</td>\n",
              "      <td>0.16</td>\n",
              "      <td>0.01</td>\n",
              "    </tr>\n",
              "  </tbody>\n",
              "</table>\n",
              "<p>16598 rows × 9 columns</p>\n",
              "</div>\n",
              "      <button class=\"colab-df-convert\" onclick=\"convertToInteractive('df-bec8e249-69e7-44fc-b614-298c5368f464')\"\n",
              "              title=\"Convert this dataframe to an interactive table.\"\n",
              "              style=\"display:none;\">\n",
              "        \n",
              "  <svg xmlns=\"http://www.w3.org/2000/svg\" height=\"24px\"viewBox=\"0 0 24 24\"\n",
              "       width=\"24px\">\n",
              "    <path d=\"M0 0h24v24H0V0z\" fill=\"none\"/>\n",
              "    <path d=\"M18.56 5.44l.94 2.06.94-2.06 2.06-.94-2.06-.94-.94-2.06-.94 2.06-2.06.94zm-11 1L8.5 8.5l.94-2.06 2.06-.94-2.06-.94L8.5 2.5l-.94 2.06-2.06.94zm10 10l.94 2.06.94-2.06 2.06-.94-2.06-.94-.94-2.06-.94 2.06-2.06.94z\"/><path d=\"M17.41 7.96l-1.37-1.37c-.4-.4-.92-.59-1.43-.59-.52 0-1.04.2-1.43.59L10.3 9.45l-7.72 7.72c-.78.78-.78 2.05 0 2.83L4 21.41c.39.39.9.59 1.41.59.51 0 1.02-.2 1.41-.59l7.78-7.78 2.81-2.81c.8-.78.8-2.07 0-2.86zM5.41 20L4 18.59l7.72-7.72 1.47 1.35L5.41 20z\"/>\n",
              "  </svg>\n",
              "      </button>\n",
              "      \n",
              "  <style>\n",
              "    .colab-df-container {\n",
              "      display:flex;\n",
              "      flex-wrap:wrap;\n",
              "      gap: 12px;\n",
              "    }\n",
              "\n",
              "    .colab-df-convert {\n",
              "      background-color: #E8F0FE;\n",
              "      border: none;\n",
              "      border-radius: 50%;\n",
              "      cursor: pointer;\n",
              "      display: none;\n",
              "      fill: #1967D2;\n",
              "      height: 32px;\n",
              "      padding: 0 0 0 0;\n",
              "      width: 32px;\n",
              "    }\n",
              "\n",
              "    .colab-df-convert:hover {\n",
              "      background-color: #E2EBFA;\n",
              "      box-shadow: 0px 1px 2px rgba(60, 64, 67, 0.3), 0px 1px 3px 1px rgba(60, 64, 67, 0.15);\n",
              "      fill: #174EA6;\n",
              "    }\n",
              "\n",
              "    [theme=dark] .colab-df-convert {\n",
              "      background-color: #3B4455;\n",
              "      fill: #D2E3FC;\n",
              "    }\n",
              "\n",
              "    [theme=dark] .colab-df-convert:hover {\n",
              "      background-color: #434B5C;\n",
              "      box-shadow: 0px 1px 3px 1px rgba(0, 0, 0, 0.15);\n",
              "      filter: drop-shadow(0px 1px 2px rgba(0, 0, 0, 0.3));\n",
              "      fill: #FFFFFF;\n",
              "    }\n",
              "  </style>\n",
              "\n",
              "      <script>\n",
              "        const buttonEl =\n",
              "          document.querySelector('#df-bec8e249-69e7-44fc-b614-298c5368f464 button.colab-df-convert');\n",
              "        buttonEl.style.display =\n",
              "          google.colab.kernel.accessAllowed ? 'block' : 'none';\n",
              "\n",
              "        async function convertToInteractive(key) {\n",
              "          const element = document.querySelector('#df-bec8e249-69e7-44fc-b614-298c5368f464');\n",
              "          const dataTable =\n",
              "            await google.colab.kernel.invokeFunction('convertToInteractive',\n",
              "                                                     [key], {});\n",
              "          if (!dataTable) return;\n",
              "\n",
              "          const docLinkHtml = 'Like what you see? Visit the ' +\n",
              "            '<a target=\"_blank\" href=https://colab.research.google.com/notebooks/data_table.ipynb>data table notebook</a>'\n",
              "            + ' to learn more about interactive tables.';\n",
              "          element.innerHTML = '';\n",
              "          dataTable['output_type'] = 'display_data';\n",
              "          await google.colab.output.renderOutput(dataTable, element);\n",
              "          const docLink = document.createElement('div');\n",
              "          docLink.innerHTML = docLinkHtml;\n",
              "          element.appendChild(docLink);\n",
              "        }\n",
              "      </script>\n",
              "    </div>\n",
              "  </div>\n",
              "  "
            ]
          },
          "metadata": {},
          "execution_count": 4
        }
      ]
    },
    {
      "cell_type": "code",
      "source": [
        "print(f'Shape of dataset: {games.shape} \\n')\n",
        "\n",
        "games.info()"
      ],
      "metadata": {
        "colab": {
          "base_uri": "https://localhost:8080/"
        },
        "id": "XUy0cmcTxvrF",
        "outputId": "dce9af42-7ba4-468b-d3a1-ab0631f25d21"
      },
      "execution_count": 5,
      "outputs": [
        {
          "output_type": "stream",
          "name": "stdout",
          "text": [
            "Shape of dataset: (16598, 9) \n",
            "\n",
            "<class 'pandas.core.frame.DataFrame'>\n",
            "RangeIndex: 16598 entries, 0 to 16597\n",
            "Data columns (total 9 columns):\n",
            " #   Column       Non-Null Count  Dtype  \n",
            "---  ------       --------------  -----  \n",
            " 0   Name         16598 non-null  object \n",
            " 1   Platform     16598 non-null  object \n",
            " 2   Year         16327 non-null  float64\n",
            " 3   Genre        16548 non-null  object \n",
            " 4   Publisher    16540 non-null  object \n",
            " 5   NA_Sales     16598 non-null  object \n",
            " 6   EU_Sales     16598 non-null  object \n",
            " 7   JP_Sales     16598 non-null  object \n",
            " 8   Other_Sales  16598 non-null  object \n",
            "dtypes: float64(1), object(8)\n",
            "memory usage: 1.1+ MB\n"
          ]
        }
      ]
    },
    {
      "cell_type": "markdown",
      "source": [
        "\n",
        "1.   지역에 따라서 선호하는 게임 장르가 다를까 라는 질문에 대답을 하셔야합니다.\n",
        "\n",
        "2.   연도별 게임의 트렌드가 있을까 라는 질문에 대답을 하셔야합니다.\n",
        "\n",
        "3.   출고량이 높은 게임에 대한 분석 및 시각화 프로세스가 포함되어야 합니다."
      ],
      "metadata": {
        "id": "29KWkRu4I_Va"
      }
    },
    {
      "cell_type": "markdown",
      "source": [
        "# 데이터 정제"
      ],
      "metadata": {
        "id": "_qDsC1yPyBN1"
      }
    },
    {
      "cell_type": "markdown",
      "source": [
        "###**a. Name**"
      ],
      "metadata": {
        "id": "WC61UVFByFaP"
      }
    },
    {
      "cell_type": "code",
      "source": [
        "#결측치(missing value) 확인\n",
        "games.isnull().sum()"
      ],
      "metadata": {
        "colab": {
          "base_uri": "https://localhost:8080/"
        },
        "id": "WNaH3RAPyTDV",
        "outputId": "c39b8c83-0c2f-4716-fca3-2571527a4478"
      },
      "execution_count": 6,
      "outputs": [
        {
          "output_type": "execute_result",
          "data": {
            "text/plain": [
              "Name             0\n",
              "Platform         0\n",
              "Year           271\n",
              "Genre           50\n",
              "Publisher       58\n",
              "NA_Sales         0\n",
              "EU_Sales         0\n",
              "JP_Sales         0\n",
              "Other_Sales      0\n",
              "dtype: int64"
            ]
          },
          "metadata": {},
          "execution_count": 6
        }
      ]
    },
    {
      "cell_type": "code",
      "source": [
        ""
      ],
      "metadata": {
        "id": "T3I54SpTy_6b"
      },
      "execution_count": null,
      "outputs": []
    },
    {
      "cell_type": "code",
      "source": [
        "#년도에 대한 문제 \n",
        "#판매량에 대한 문제: 기본 단위가 백만장인걸로 판단\n",
        "#1000000\n",
        "#테트리스 판매량으로 파악했습니다. \n",
        "#데이터판매량 K는 1000이므로 \n",
        "#단위에 맞추어 \n",
        "#K=1000/1000000\n",
        "#K는 0.001로 수정합니다. \n",
        "#장르는 한번 확인해보고 진행\n",
        "#판매사 파트는 삭제는 하지 않습니다.\n",
        "#K: 1e-3"
      ],
      "metadata": {
        "colab": {
          "base_uri": "https://localhost:8080/"
        },
        "id": "Ok5z1n6kznfE",
        "outputId": "52345682-9647-4ca3-bb13-ba24033327aa"
      },
      "execution_count": null,
      "outputs": [
        {
          "output_type": "execute_result",
          "data": {
            "text/plain": [
              "0.001"
            ]
          },
          "metadata": {},
          "execution_count": 12
        }
      ]
    },
    {
      "cell_type": "code",
      "source": [
        "#df[\"A\"].replace({\"K\":\"*1e3\", \"M\":\"*1e6\"}, regex=True).map(pd.eval).astype(int)\n",
        "games['NA_Sales']=games['NA_Sales'].replace({\"K\": \"*1e-3\",\"M\":\"*1\",\"k\":\"*1e-3\",\"m\":\"*1\"},regex=True).map(pd.eval).astype(float)\n",
        "games['JP_Sales']=games['JP_Sales'].replace({\"K\": \"*1e-3\",\"M\":\"*1\",\"k\":\"*1e-3\",\"m\":\"*1\"},regex=True).map(pd.eval).astype(float)\n",
        "games['Other_Sales']=games['Other_Sales'].replace({\"K\": \"*1e-3\",\"M\":\"*1\",\"k\":\"*1e-3\",\"m\":\"*1\"},regex=True).map(pd.eval).astype(float)\n",
        "games['EU_Sales']=games['EU_Sales'].replace({\"K\": \"*1e-3\",\"M\":\"*1\",\"k\":\"*1e-3\",\"m\":\"*1\"},regex=True).map(pd.eval).astype(float)"
      ],
      "metadata": {
        "id": "NLYH9-0JApPi"
      },
      "execution_count": 7,
      "outputs": []
    },
    {
      "cell_type": "code",
      "source": [
        "games.info()"
      ],
      "metadata": {
        "colab": {
          "base_uri": "https://localhost:8080/"
        },
        "id": "rakN-x1EDEIa",
        "outputId": "82baa685-5382-456a-e376-da29a6f3d240"
      },
      "execution_count": 8,
      "outputs": [
        {
          "output_type": "stream",
          "name": "stdout",
          "text": [
            "<class 'pandas.core.frame.DataFrame'>\n",
            "RangeIndex: 16598 entries, 0 to 16597\n",
            "Data columns (total 9 columns):\n",
            " #   Column       Non-Null Count  Dtype  \n",
            "---  ------       --------------  -----  \n",
            " 0   Name         16598 non-null  object \n",
            " 1   Platform     16598 non-null  object \n",
            " 2   Year         16327 non-null  float64\n",
            " 3   Genre        16548 non-null  object \n",
            " 4   Publisher    16540 non-null  object \n",
            " 5   NA_Sales     16598 non-null  float64\n",
            " 6   EU_Sales     16598 non-null  float64\n",
            " 7   JP_Sales     16598 non-null  float64\n",
            " 8   Other_Sales  16598 non-null  float64\n",
            "dtypes: float64(5), object(4)\n",
            "memory usage: 1.1+ MB\n"
          ]
        }
      ]
    },
    {
      "cell_type": "code",
      "source": [
        "games.Year.describe()"
      ],
      "metadata": {
        "colab": {
          "base_uri": "https://localhost:8080/"
        },
        "id": "bkyFLZcfDiwi",
        "outputId": "11a702a4-7d89-4902-ee15-5ff59c37b6c8"
      },
      "execution_count": 10,
      "outputs": [
        {
          "output_type": "execute_result",
          "data": {
            "text/plain": [
              "count    16327.000000\n",
              "mean      1994.242543\n",
              "std        155.077168\n",
              "min          0.000000\n",
              "25%       2003.000000\n",
              "50%       2007.000000\n",
              "75%       2010.000000\n",
              "max       2020.000000\n",
              "Name: Year, dtype: float64"
            ]
          },
          "metadata": {},
          "execution_count": 10
        }
      ]
    },
    {
      "cell_type": "code",
      "source": [
        "#그 이후 결측치 제거도 진행한다. 271개를 다 찾을 수는 없기 떄문이다. \n",
        "games.dropna(subset=['Year'], inplace=True)\n",
        "games.isnull().sum()"
      ],
      "metadata": {
        "colab": {
          "base_uri": "https://localhost:8080/"
        },
        "id": "NIvWlVbURCey",
        "outputId": "044ae12e-d238-4c0e-a1a6-112c2dba790f"
      },
      "execution_count": 11,
      "outputs": [
        {
          "output_type": "execute_result",
          "data": {
            "text/plain": [
              "Name            0\n",
              "Platform        0\n",
              "Year            0\n",
              "Genre          50\n",
              "Publisher      36\n",
              "NA_Sales        0\n",
              "EU_Sales        0\n",
              "JP_Sales        0\n",
              "Other_Sales     0\n",
              "dtype: int64"
            ]
          },
          "metadata": {},
          "execution_count": 11
        }
      ]
    },
    {
      "cell_type": "code",
      "source": [
        "#year의 데이터를 보고 판단했을 떄 1980년도 부터 데이터를 시작하기에\n",
        "#아래의 값은 삭제한다. \n",
        "#만약 프로젝트 기간동안 시간이 난다면 50년도 기준으로 \n",
        "#이하면 +2000 이상이면 +1900하는 구조로 바꾼다. 단점은 데이터의 정확성을 문제이다.\n",
        "plt.hist(games.Year)"
      ],
      "metadata": {
        "colab": {
          "base_uri": "https://localhost:8080/",
          "height": 357
        },
        "id": "wTbcaa5dDqzo",
        "outputId": "35e13b2c-4cea-4157-9324-7c84ab69764a"
      },
      "execution_count": 12,
      "outputs": [
        {
          "output_type": "execute_result",
          "data": {
            "text/plain": [
              "(array([  100.,     0.,     0.,     0.,     0.,     0.,     0.,     0.,\n",
              "            0., 16227.]),\n",
              " array([   0.,  202.,  404.,  606.,  808., 1010., 1212., 1414., 1616.,\n",
              "        1818., 2020.]),\n",
              " <a list of 10 Patch objects>)"
            ]
          },
          "metadata": {},
          "execution_count": 12
        },
        {
          "output_type": "display_data",
          "data": {
            "text/plain": [
              "<Figure size 432x288 with 1 Axes>"
            ],
            "image/png": "[encoded data removed]"
          },
          "metadata": {
            "needs_background": "light"
          }
        }
      ]
    },
    {
      "cell_type": "code",
      "source": [
        "#최초의 비디오게임은 1958년에 만들어졌기에 이하의 값은 삭제합니다.\n",
        "delete_index = games[games.Year<1958].index\n",
        "games= games.drop(index = delete_index)"
      ],
      "metadata": {
        "id": "h_ZXlqJMP55P"
      },
      "execution_count": 13,
      "outputs": []
    },
    {
      "cell_type": "code",
      "source": [
        "games.isnull().sum()"
      ],
      "metadata": {
        "colab": {
          "base_uri": "https://localhost:8080/"
        },
        "id": "6pHzpPVRQxVx",
        "outputId": "cb568857-ae01-4bb2-fea7-e0ba16cb0eb6"
      },
      "execution_count": 14,
      "outputs": [
        {
          "output_type": "execute_result",
          "data": {
            "text/plain": [
              "Name            0\n",
              "Platform        0\n",
              "Year            0\n",
              "Genre          50\n",
              "Publisher      36\n",
              "NA_Sales        0\n",
              "EU_Sales        0\n",
              "JP_Sales        0\n",
              "Other_Sales     0\n",
              "dtype: int64"
            ]
          },
          "metadata": {},
          "execution_count": 14
        }
      ]
    },
    {
      "cell_type": "code",
      "source": [
        "#판매량이 높은 게임 중에서 장르가 없는 경우가 거의 없고\n",
        "#장르가 없는 것은 추측할 수 없기에 이 또한 삭제한다.\n",
        "games.dropna(subset=['Genre'], inplace=True)\n",
        "games.isnull().sum()"
      ],
      "metadata": {
        "colab": {
          "base_uri": "https://localhost:8080/"
        },
        "id": "5aDVo-ZsSBh8",
        "outputId": "69590c54-08b6-476d-eba0-67eee4dd3ea2"
      },
      "execution_count": 15,
      "outputs": [
        {
          "output_type": "execute_result",
          "data": {
            "text/plain": [
              "Name            0\n",
              "Platform        0\n",
              "Year            0\n",
              "Genre           0\n",
              "Publisher      36\n",
              "NA_Sales        0\n",
              "EU_Sales        0\n",
              "JP_Sales        0\n",
              "Other_Sales     0\n",
              "dtype: int64"
            ]
          },
          "metadata": {},
          "execution_count": 15
        }
      ]
    },
    {
      "cell_type": "code",
      "source": [
        "#퍼블리셔가 저희가 어떤 게임을 설계할까? 에 대한 문제에서 벗어나기에 결측치를 삭제하지 않습니다.\n"
      ],
      "metadata": {
        "id": "9J56Xt3jSZ7U"
      },
      "execution_count": null,
      "outputs": []
    },
    {
      "cell_type": "code",
      "source": [
        ""
      ],
      "metadata": {
        "id": "_cTkPAjAeABx"
      },
      "execution_count": null,
      "outputs": []
    },
    {
      "cell_type": "code",
      "source": [
        "#1.   지역에 따라서 선호하는 게임 장르가 다를까 라는 질문에 대답을 하셔야합니다.\n",
        "games_regeion=games.groupby(games.Genre)['NA_Sales','EU_Sales','JP_Sales','Other_Sales'].mean()\n",
        "games_regeion"
      ],
      "metadata": {
        "id": "4LyqhzdlS-YS",
        "colab": {
          "base_uri": "https://localhost:8080/",
          "height": 494
        },
        "outputId": "04895511-ef3a-4f43-b530-fd7a11e690c1"
      },
      "execution_count": 16,
      "outputs": [
        {
          "output_type": "stream",
          "name": "stderr",
          "text": [
            "/usr/local/lib/python3.7/dist-packages/ipykernel_launcher.py:2: FutureWarning: Indexing with multiple keys (implicitly converted to a tuple of keys) will be deprecated, use a list instead.\n",
            "  \n"
          ]
        },
        {
          "output_type": "execute_result",
          "data": {
            "text/plain": [
              "              NA_Sales  EU_Sales  JP_Sales  Other_Sales\n",
              "Genre                                                  \n",
              "Action        0.265177  0.158773  0.048247     0.056890\n",
              "Adventure     0.080142  0.050055  0.040924     0.013144\n",
              "Fighting      0.265513  0.120290  0.104210     0.043546\n",
              "Misc          0.235900  0.123735  0.061186     0.042855\n",
              "Platform      0.510924  0.230277  0.149215     0.059065\n",
              "Puzzle        0.216458  0.090161  0.100519     0.022165\n",
              "Racing        0.292207  0.193562  0.045802     0.063000\n",
              "Role-Playing  0.210617  0.120933  0.230624     0.037524\n",
              "Shooter       0.450229  0.242319  0.029448     0.079511\n",
              "Simulation    0.214502  0.133720  0.075190     0.037014\n",
              "Sports        0.290227  0.161507  0.058794     0.057549\n",
              "Strategy      0.102075  0.067368  0.072376     0.016842"
            ],
            "text/html": [
              "\n",
              "  <div id=\"df-81e756eb-ca71-4fee-957f-d87504062b8a\">\n",
              "    <div class=\"colab-df-container\">\n",
              "      <div>\n",
              "<style scoped>\n",
              "    .dataframe tbody tr th:only-of-type {\n",
              "        vertical-align: middle;\n",
              "    }\n",
              "\n",
              "    .dataframe tbody tr th {\n",
              "        vertical-align: top;\n",
              "    }\n",
              "\n",
              "    .dataframe thead th {\n",
              "        text-align: right;\n",
              "    }\n",
              "</style>\n",
              "<table border=\"1\" class=\"dataframe\">\n",
              "  <thead>\n",
              "    <tr style=\"text-align: right;\">\n",
              "      <th></th>\n",
              "      <th>NA_Sales</th>\n",
              "      <th>EU_Sales</th>\n",
              "      <th>JP_Sales</th>\n",
              "      <th>Other_Sales</th>\n",
              "    </tr>\n",
              "    <tr>\n",
              "      <th>Genre</th>\n",
              "      <th></th>\n",
              "      <th></th>\n",
              "      <th></th>\n",
              "      <th></th>\n",
              "    </tr>\n",
              "  </thead>\n",
              "  <tbody>\n",
              "    <tr>\n",
              "      <th>Action</th>\n",
              "      <td>0.265177</td>\n",
              "      <td>0.158773</td>\n",
              "      <td>0.048247</td>\n",
              "      <td>0.056890</td>\n",
              "    </tr>\n",
              "    <tr>\n",
              "      <th>Adventure</th>\n",
              "      <td>0.080142</td>\n",
              "      <td>0.050055</td>\n",
              "      <td>0.040924</td>\n",
              "      <td>0.013144</td>\n",
              "    </tr>\n",
              "    <tr>\n",
              "      <th>Fighting</th>\n",
              "      <td>0.265513</td>\n",
              "      <td>0.120290</td>\n",
              "      <td>0.104210</td>\n",
              "      <td>0.043546</td>\n",
              "    </tr>\n",
              "    <tr>\n",
              "      <th>Misc</th>\n",
              "      <td>0.235900</td>\n",
              "      <td>0.123735</td>\n",
              "      <td>0.061186</td>\n",
              "      <td>0.042855</td>\n",
              "    </tr>\n",
              "    <tr>\n",
              "      <th>Platform</th>\n",
              "      <td>0.510924</td>\n",
              "      <td>0.230277</td>\n",
              "      <td>0.149215</td>\n",
              "      <td>0.059065</td>\n",
              "    </tr>\n",
              "    <tr>\n",
              "      <th>Puzzle</th>\n",
              "      <td>0.216458</td>\n",
              "      <td>0.090161</td>\n",
              "      <td>0.100519</td>\n",
              "      <td>0.022165</td>\n",
              "    </tr>\n",
              "    <tr>\n",
              "      <th>Racing</th>\n",
              "      <td>0.292207</td>\n",
              "      <td>0.193562</td>\n",
              "      <td>0.045802</td>\n",
              "      <td>0.063000</td>\n",
              "    </tr>\n",
              "    <tr>\n",
              "      <th>Role-Playing</th>\n",
              "      <td>0.210617</td>\n",
              "      <td>0.120933</td>\n",
              "      <td>0.230624</td>\n",
              "      <td>0.037524</td>\n",
              "    </tr>\n",
              "    <tr>\n",
              "      <th>Shooter</th>\n",
              "      <td>0.450229</td>\n",
              "      <td>0.242319</td>\n",
              "      <td>0.029448</td>\n",
              "      <td>0.079511</td>\n",
              "    </tr>\n",
              "    <tr>\n",
              "      <th>Simulation</th>\n",
              "      <td>0.214502</td>\n",
              "      <td>0.133720</td>\n",
              "      <td>0.075190</td>\n",
              "      <td>0.037014</td>\n",
              "    </tr>\n",
              "    <tr>\n",
              "      <th>Sports</th>\n",
              "      <td>0.290227</td>\n",
              "      <td>0.161507</td>\n",
              "      <td>0.058794</td>\n",
              "      <td>0.057549</td>\n",
              "    </tr>\n",
              "    <tr>\n",
              "      <th>Strategy</th>\n",
              "      <td>0.102075</td>\n",
              "      <td>0.067368</td>\n",
              "      <td>0.072376</td>\n",
              "      <td>0.016842</td>\n",
              "    </tr>\n",
              "  </tbody>\n",
              "</table>\n",
              "</div>\n",
              "      <button class=\"colab-df-convert\" onclick=\"convertToInteractive('df-81e756eb-ca71-4fee-957f-d87504062b8a')\"\n",
              "              title=\"Convert this dataframe to an interactive table.\"\n",
              "              style=\"display:none;\">\n",
              "        \n",
              "  <svg xmlns=\"http://www.w3.org/2000/svg\" height=\"24px\"viewBox=\"0 0 24 24\"\n",
              "       width=\"24px\">\n",
              "    <path d=\"M0 0h24v24H0V0z\" fill=\"none\"/>\n",
              "    <path d=\"M18.56 5.44l.94 2.06.94-2.06 2.06-.94-2.06-.94-.94-2.06-.94 2.06-2.06.94zm-11 1L8.5 8.5l.94-2.06 2.06-.94-2.06-.94L8.5 2.5l-.94 2.06-2.06.94zm10 10l.94 2.06.94-2.06 2.06-.94-2.06-.94-.94-2.06-.94 2.06-2.06.94z\"/><path d=\"M17.41 7.96l-1.37-1.37c-.4-.4-.92-.59-1.43-.59-.52 0-1.04.2-1.43.59L10.3 9.45l-7.72 7.72c-.78.78-.78 2.05 0 2.83L4 21.41c.39.39.9.59 1.41.59.51 0 1.02-.2 1.41-.59l7.78-7.78 2.81-2.81c.8-.78.8-2.07 0-2.86zM5.41 20L4 18.59l7.72-7.72 1.47 1.35L5.41 20z\"/>\n",
              "  </svg>\n",
              "      </button>\n",
              "      \n",
              "  <style>\n",
              "    .colab-df-container {\n",
              "      display:flex;\n",
              "      flex-wrap:wrap;\n",
              "      gap: 12px;\n",
              "    }\n",
              "\n",
              "    .colab-df-convert {\n",
              "      background-color: #E8F0FE;\n",
              "      border: none;\n",
              "      border-radius: 50%;\n",
              "      cursor: pointer;\n",
              "      display: none;\n",
              "      fill: #1967D2;\n",
              "      height: 32px;\n",
              "      padding: 0 0 0 0;\n",
              "      width: 32px;\n",
              "    }\n",
              "\n",
              "    .colab-df-convert:hover {\n",
              "      background-color: #E2EBFA;\n",
              "      box-shadow: 0px 1px 2px rgba(60, 64, 67, 0.3), 0px 1px 3px 1px rgba(60, 64, 67, 0.15);\n",
              "      fill: #174EA6;\n",
              "    }\n",
              "\n",
              "    [theme=dark] .colab-df-convert {\n",
              "      background-color: #3B4455;\n",
              "      fill: #D2E3FC;\n",
              "    }\n",
              "\n",
              "    [theme=dark] .colab-df-convert:hover {\n",
              "      background-color: #434B5C;\n",
              "      box-shadow: 0px 1px 3px 1px rgba(0, 0, 0, 0.15);\n",
              "      filter: drop-shadow(0px 1px 2px rgba(0, 0, 0, 0.3));\n",
              "      fill: #FFFFFF;\n",
              "    }\n",
              "  </style>\n",
              "\n",
              "      <script>\n",
              "        const buttonEl =\n",
              "          document.querySelector('#df-81e756eb-ca71-4fee-957f-d87504062b8a button.colab-df-convert');\n",
              "        buttonEl.style.display =\n",
              "          google.colab.kernel.accessAllowed ? 'block' : 'none';\n",
              "\n",
              "        async function convertToInteractive(key) {\n",
              "          const element = document.querySelector('#df-81e756eb-ca71-4fee-957f-d87504062b8a');\n",
              "          const dataTable =\n",
              "            await google.colab.kernel.invokeFunction('convertToInteractive',\n",
              "                                                     [key], {});\n",
              "          if (!dataTable) return;\n",
              "\n",
              "          const docLinkHtml = 'Like what you see? Visit the ' +\n",
              "            '<a target=\"_blank\" href=https://colab.research.google.com/notebooks/data_table.ipynb>data table notebook</a>'\n",
              "            + ' to learn more about interactive tables.';\n",
              "          element.innerHTML = '';\n",
              "          dataTable['output_type'] = 'display_data';\n",
              "          await google.colab.output.renderOutput(dataTable, element);\n",
              "          const docLink = document.createElement('div');\n",
              "          docLink.innerHTML = docLinkHtml;\n",
              "          element.appendChild(docLink);\n",
              "        }\n",
              "      </script>\n",
              "    </div>\n",
              "  </div>\n",
              "  "
            ]
          },
          "metadata": {},
          "execution_count": 16
        }
      ]
    },
    {
      "cell_type": "code",
      "source": [
        "plt.figure(figsize=(100,100))\n",
        "games_regeion.plot.bar(rot=0)\n",
        "plt.xticks(rotation=45)\n",
        "plt.show()"
      ],
      "metadata": {
        "colab": {
          "base_uri": "https://localhost:8080/",
          "height": 338
        },
        "id": "cDs6NfMphjLp",
        "outputId": "eab1e123-1e60-4307-f6c9-2b1021b52a47"
      },
      "execution_count": 17,
      "outputs": [
        {
          "output_type": "display_data",
          "data": {
            "text/plain": [
              "<Figure size 7200x7200 with 0 Axes>"
            ]
          },
          "metadata": {}
        },
        {
          "output_type": "display_data",
          "data": {
            "text/plain": [
              "<Figure size 432x288 with 1 Axes>"
            ],
            "image/png": "[encoded data removed]"
          },
          "metadata": {
            "needs_background": "light"
          }
        }
      ]
    },
    {
      "cell_type": "code",
      "source": [
        "#1.   지역에 따라서 선호하는 게임 장르가 다를까 라는 질문에 대답을 하셔야합니다.\n",
        "# NA(북아메리카)같은 경우 platform 게임을 제일 선호하고\n",
        "# EU(유럽)같은 경우 shooter 게임을 제일 선호합니다.\n",
        "# JP(일본) 같은 경우 role_playing 게임을 제일 선호합니다.\n",
        "# Other(이외 지역)같은 경우 shooter 게임을 가장 선호합니다."
      ],
      "metadata": {
        "id": "60Y8Lm1CjH06"
      },
      "execution_count": null,
      "outputs": []
    },
    {
      "cell_type": "code",
      "source": [
        "#2.   연도별 게임의 트렌드가 있을까 라는 질문에 대답을 하셔야합니다.\n",
        "game_all= games.copy()"
      ],
      "metadata": {
        "id": "ySyU_AQUkAdp"
      },
      "execution_count": 18,
      "outputs": []
    },
    {
      "cell_type": "code",
      "source": [
        "game_all['All_Sales']= game_all['NA_Sales']+game_all['EU_Sales']+game_all['JP_Sales']+game_all['Other_Sales']\n"
      ],
      "metadata": {
        "id": "WxL-O7jnkR_H"
      },
      "execution_count": 19,
      "outputs": []
    },
    {
      "cell_type": "code",
      "source": [
        "games_year=game_all.groupby(['Year','Genre'],as_index=False)['All_Sales'].mean()\n",
        "games_year\n"
      ],
      "metadata": {
        "colab": {
          "base_uri": "https://localhost:8080/",
          "height": 424
        },
        "id": "oo8Q4Ld1ksUO",
        "outputId": "3b15a826-e37c-4432-a691-3f08a9d648ff"
      },
      "execution_count": 20,
      "outputs": [
        {
          "output_type": "execute_result",
          "data": {
            "text/plain": [
              "       Year         Genre  All_Sales\n",
              "0    1980.0        Action   0.340000\n",
              "1    1980.0      Fighting   0.770000\n",
              "2    1980.0          Misc   0.675000\n",
              "3    1980.0       Shooter   3.535000\n",
              "4    1981.0        Action   0.591600\n",
              "..      ...           ...        ...\n",
              "383  2016.0        Sports   0.390811\n",
              "384  2016.0      Strategy   0.052000\n",
              "385  2017.0        Action   0.010000\n",
              "386  2017.0  Role-Playing   0.020000\n",
              "387  2020.0    Simulation   0.290000\n",
              "\n",
              "[388 rows x 3 columns]"
            ],
            "text/html": [
              "\n",
              "  <div id=\"df-cd19ce34-1f16-45f9-81cb-74558e7e6cf5\">\n",
              "    <div class=\"colab-df-container\">\n",
              "      <div>\n",
              "<style scoped>\n",
              "    .dataframe tbody tr th:only-of-type {\n",
              "        vertical-align: middle;\n",
              "    }\n",
              "\n",
              "    .dataframe tbody tr th {\n",
              "        vertical-align: top;\n",
              "    }\n",
              "\n",
              "    .dataframe thead th {\n",
              "        text-align: right;\n",
              "    }\n",
              "</style>\n",
              "<table border=\"1\" class=\"dataframe\">\n",
              "  <thead>\n",
              "    <tr style=\"text-align: right;\">\n",
              "      <th></th>\n",
              "      <th>Year</th>\n",
              "      <th>Genre</th>\n",
              "      <th>All_Sales</th>\n",
              "    </tr>\n",
              "  </thead>\n",
              "  <tbody>\n",
              "    <tr>\n",
              "      <th>0</th>\n",
              "      <td>1980.0</td>\n",
              "      <td>Action</td>\n",
              "      <td>0.340000</td>\n",
              "    </tr>\n",
              "    <tr>\n",
              "      <th>1</th>\n",
              "      <td>1980.0</td>\n",
              "      <td>Fighting</td>\n",
              "      <td>0.770000</td>\n",
              "    </tr>\n",
              "    <tr>\n",
              "      <th>2</th>\n",
              "      <td>1980.0</td>\n",
              "      <td>Misc</td>\n",
              "      <td>0.675000</td>\n",
              "    </tr>\n",
              "    <tr>\n",
              "      <th>3</th>\n",
              "      <td>1980.0</td>\n",
              "      <td>Shooter</td>\n",
              "      <td>3.535000</td>\n",
              "    </tr>\n",
              "    <tr>\n",
              "      <th>4</th>\n",
              "      <td>1981.0</td>\n",
              "      <td>Action</td>\n",
              "      <td>0.591600</td>\n",
              "    </tr>\n",
              "    <tr>\n",
              "      <th>...</th>\n",
              "      <td>...</td>\n",
              "      <td>...</td>\n",
              "      <td>...</td>\n",
              "    </tr>\n",
              "    <tr>\n",
              "      <th>383</th>\n",
              "      <td>2016.0</td>\n",
              "      <td>Sports</td>\n",
              "      <td>0.390811</td>\n",
              "    </tr>\n",
              "    <tr>\n",
              "      <th>384</th>\n",
              "      <td>2016.0</td>\n",
              "      <td>Strategy</td>\n",
              "      <td>0.052000</td>\n",
              "    </tr>\n",
              "    <tr>\n",
              "      <th>385</th>\n",
              "      <td>2017.0</td>\n",
              "      <td>Action</td>\n",
              "      <td>0.010000</td>\n",
              "    </tr>\n",
              "    <tr>\n",
              "      <th>386</th>\n",
              "      <td>2017.0</td>\n",
              "      <td>Role-Playing</td>\n",
              "      <td>0.020000</td>\n",
              "    </tr>\n",
              "    <tr>\n",
              "      <th>387</th>\n",
              "      <td>2020.0</td>\n",
              "      <td>Simulation</td>\n",
              "      <td>0.290000</td>\n",
              "    </tr>\n",
              "  </tbody>\n",
              "</table>\n",
              "<p>388 rows × 3 columns</p>\n",
              "</div>\n",
              "      <button class=\"colab-df-convert\" onclick=\"convertToInteractive('df-cd19ce34-1f16-45f9-81cb-74558e7e6cf5')\"\n",
              "              title=\"Convert this dataframe to an interactive table.\"\n",
              "              style=\"display:none;\">\n",
              "        \n",
              "  <svg xmlns=\"http://www.w3.org/2000/svg\" height=\"24px\"viewBox=\"0 0 24 24\"\n",
              "       width=\"24px\">\n",
              "    <path d=\"M0 0h24v24H0V0z\" fill=\"none\"/>\n",
              "    <path d=\"M18.56 5.44l.94 2.06.94-2.06 2.06-.94-2.06-.94-.94-2.06-.94 2.06-2.06.94zm-11 1L8.5 8.5l.94-2.06 2.06-.94-2.06-.94L8.5 2.5l-.94 2.06-2.06.94zm10 10l.94 2.06.94-2.06 2.06-.94-2.06-.94-.94-2.06-.94 2.06-2.06.94z\"/><path d=\"M17.41 7.96l-1.37-1.37c-.4-.4-.92-.59-1.43-.59-.52 0-1.04.2-1.43.59L10.3 9.45l-7.72 7.72c-.78.78-.78 2.05 0 2.83L4 21.41c.39.39.9.59 1.41.59.51 0 1.02-.2 1.41-.59l7.78-7.78 2.81-2.81c.8-.78.8-2.07 0-2.86zM5.41 20L4 18.59l7.72-7.72 1.47 1.35L5.41 20z\"/>\n",
              "  </svg>\n",
              "      </button>\n",
              "      \n",
              "  <style>\n",
              "    .colab-df-container {\n",
              "      display:flex;\n",
              "      flex-wrap:wrap;\n",
              "      gap: 12px;\n",
              "    }\n",
              "\n",
              "    .colab-df-convert {\n",
              "      background-color: #E8F0FE;\n",
              "      border: none;\n",
              "      border-radius: 50%;\n",
              "      cursor: pointer;\n",
              "      display: none;\n",
              "      fill: #1967D2;\n",
              "      height: 32px;\n",
              "      padding: 0 0 0 0;\n",
              "      width: 32px;\n",
              "    }\n",
              "\n",
              "    .colab-df-convert:hover {\n",
              "      background-color: #E2EBFA;\n",
              "      box-shadow: 0px 1px 2px rgba(60, 64, 67, 0.3), 0px 1px 3px 1px rgba(60, 64, 67, 0.15);\n",
              "      fill: #174EA6;\n",
              "    }\n",
              "\n",
              "    [theme=dark] .colab-df-convert {\n",
              "      background-color: #3B4455;\n",
              "      fill: #D2E3FC;\n",
              "    }\n",
              "\n",
              "    [theme=dark] .colab-df-convert:hover {\n",
              "      background-color: #434B5C;\n",
              "      box-shadow: 0px 1px 3px 1px rgba(0, 0, 0, 0.15);\n",
              "      filter: drop-shadow(0px 1px 2px rgba(0, 0, 0, 0.3));\n",
              "      fill: #FFFFFF;\n",
              "    }\n",
              "  </style>\n",
              "\n",
              "      <script>\n",
              "        const buttonEl =\n",
              "          document.querySelector('#df-cd19ce34-1f16-45f9-81cb-74558e7e6cf5 button.colab-df-convert');\n",
              "        buttonEl.style.display =\n",
              "          google.colab.kernel.accessAllowed ? 'block' : 'none';\n",
              "\n",
              "        async function convertToInteractive(key) {\n",
              "          const element = document.querySelector('#df-cd19ce34-1f16-45f9-81cb-74558e7e6cf5');\n",
              "          const dataTable =\n",
              "            await google.colab.kernel.invokeFunction('convertToInteractive',\n",
              "                                                     [key], {});\n",
              "          if (!dataTable) return;\n",
              "\n",
              "          const docLinkHtml = 'Like what you see? Visit the ' +\n",
              "            '<a target=\"_blank\" href=https://colab.research.google.com/notebooks/data_table.ipynb>data table notebook</a>'\n",
              "            + ' to learn more about interactive tables.';\n",
              "          element.innerHTML = '';\n",
              "          dataTable['output_type'] = 'display_data';\n",
              "          await google.colab.output.renderOutput(dataTable, element);\n",
              "          const docLink = document.createElement('div');\n",
              "          docLink.innerHTML = docLinkHtml;\n",
              "          element.appendChild(docLink);\n",
              "        }\n",
              "      </script>\n",
              "    </div>\n",
              "  </div>\n",
              "  "
            ]
          },
          "metadata": {},
          "execution_count": 20
        }
      ]
    },
    {
      "cell_type": "code",
      "source": [
        "plt.figure(figsize=(50,10))\n",
        "sns.lineplot(x='Year',y='All_Sales',data=games_year,hue='Genre')"
      ],
      "metadata": {
        "colab": {
          "base_uri": "https://localhost:8080/",
          "height": 644
        },
        "id": "1fMgd1Jeqx9u",
        "outputId": "5ca07ece-cc0d-468d-bce9-597828f67bfb"
      },
      "execution_count": 23,
      "outputs": [
        {
          "output_type": "execute_result",
          "data": {
            "text/plain": [
              "<matplotlib.axes._subplots.AxesSubplot at 0x7f93d5236a90>"
            ]
          },
          "metadata": {},
          "execution_count": 23
        },
        {
          "output_type": "display_data",
          "data": {
            "text/plain": [
              "<Figure size 3600x720 with 1 Axes>"
            ],
            "image/png": "[encoded data removed]"
          },
          "metadata": {
            "needs_background": "light"
          }
        }
      ]
    },
    {
      "cell_type": "code",
      "source": [
        "plt.figure(figsize=(50,10))\n",
        "#plt.xticks(rotation=45)\n",
        "sns.barplot(x='Year',y='All_Sales',data=games_year,hue='Genre')"
      ],
      "metadata": {
        "colab": {
          "base_uri": "https://localhost:8080/",
          "height": 644
        },
        "id": "Mrj4yCfOnnzV",
        "outputId": "9d551f35-0bf2-40e8-e0a3-0856b717f830"
      },
      "execution_count": 27,
      "outputs": [
        {
          "output_type": "execute_result",
          "data": {
            "text/plain": [
              "<matplotlib.axes._subplots.AxesSubplot at 0x7f93d3a4cd50>"
            ]
          },
          "metadata": {},
          "execution_count": 27
        },
        {
          "output_type": "display_data",
          "data": {
            "text/plain": [
              "<Figure size 3600x720 with 1 Axes>"
            ],
            "image/png": "[encoded data removed]"
          },
          "metadata": {
            "needs_background": "light"
          }
        }
      ]
    },
    {
      "cell_type": "code",
      "source": [
        "games_year2=game_all.groupby(['Year','Genre']).mean()\n",
        "games_year2.drop(columns=[\"NA_Sales\",\"EU_Sales\",\"JP_Sales\",\"Other_Sales\"],axis=1)"
      ],
      "metadata": {
        "colab": {
          "base_uri": "https://localhost:8080/",
          "height": 455
        },
        "id": "UmkceLrjvyla",
        "outputId": "afea03ec-bca9-41f4-bf44-e8343eef6334"
      },
      "execution_count": null,
      "outputs": [
        {
          "output_type": "execute_result",
          "data": {
            "text/plain": [
              "                     All_Sales\n",
              "Year   Genre                  \n",
              "1980.0 Action         0.340000\n",
              "       Fighting       0.770000\n",
              "       Misc           0.675000\n",
              "       Shooter        3.535000\n",
              "1981.0 Action         0.591600\n",
              "...                        ...\n",
              "2016.0 Sports         0.390811\n",
              "       Strategy       0.052000\n",
              "2017.0 Action         0.010000\n",
              "       Role-Playing   0.020000\n",
              "2020.0 Simulation     0.290000\n",
              "\n",
              "[388 rows x 1 columns]"
            ],
            "text/html": [
              "\n",
              "  <div id=\"df-113385a7-c965-418e-9bcc-80097171a5a1\">\n",
              "    <div class=\"colab-df-container\">\n",
              "      <div>\n",
              "<style scoped>\n",
              "    .dataframe tbody tr th:only-of-type {\n",
              "        vertical-align: middle;\n",
              "    }\n",
              "\n",
              "    .dataframe tbody tr th {\n",
              "        vertical-align: top;\n",
              "    }\n",
              "\n",
              "    .dataframe thead th {\n",
              "        text-align: right;\n",
              "    }\n",
              "</style>\n",
              "<table border=\"1\" class=\"dataframe\">\n",
              "  <thead>\n",
              "    <tr style=\"text-align: right;\">\n",
              "      <th></th>\n",
              "      <th></th>\n",
              "      <th>All_Sales</th>\n",
              "    </tr>\n",
              "    <tr>\n",
              "      <th>Year</th>\n",
              "      <th>Genre</th>\n",
              "      <th></th>\n",
              "    </tr>\n",
              "  </thead>\n",
              "  <tbody>\n",
              "    <tr>\n",
              "      <th rowspan=\"4\" valign=\"top\">1980.0</th>\n",
              "      <th>Action</th>\n",
              "      <td>0.340000</td>\n",
              "    </tr>\n",
              "    <tr>\n",
              "      <th>Fighting</th>\n",
              "      <td>0.770000</td>\n",
              "    </tr>\n",
              "    <tr>\n",
              "      <th>Misc</th>\n",
              "      <td>0.675000</td>\n",
              "    </tr>\n",
              "    <tr>\n",
              "      <th>Shooter</th>\n",
              "      <td>3.535000</td>\n",
              "    </tr>\n",
              "    <tr>\n",
              "      <th>1981.0</th>\n",
              "      <th>Action</th>\n",
              "      <td>0.591600</td>\n",
              "    </tr>\n",
              "    <tr>\n",
              "      <th>...</th>\n",
              "      <th>...</th>\n",
              "      <td>...</td>\n",
              "    </tr>\n",
              "    <tr>\n",
              "      <th rowspan=\"2\" valign=\"top\">2016.0</th>\n",
              "      <th>Sports</th>\n",
              "      <td>0.390811</td>\n",
              "    </tr>\n",
              "    <tr>\n",
              "      <th>Strategy</th>\n",
              "      <td>0.052000</td>\n",
              "    </tr>\n",
              "    <tr>\n",
              "      <th rowspan=\"2\" valign=\"top\">2017.0</th>\n",
              "      <th>Action</th>\n",
              "      <td>0.010000</td>\n",
              "    </tr>\n",
              "    <tr>\n",
              "      <th>Role-Playing</th>\n",
              "      <td>0.020000</td>\n",
              "    </tr>\n",
              "    <tr>\n",
              "      <th>2020.0</th>\n",
              "      <th>Simulation</th>\n",
              "      <td>0.290000</td>\n",
              "    </tr>\n",
              "  </tbody>\n",
              "</table>\n",
              "<p>388 rows × 1 columns</p>\n",
              "</div>\n",
              "      <button class=\"colab-df-convert\" onclick=\"convertToInteractive('df-113385a7-c965-418e-9bcc-80097171a5a1')\"\n",
              "              title=\"Convert this dataframe to an interactive table.\"\n",
              "              style=\"display:none;\">\n",
              "        \n",
              "  <svg xmlns=\"http://www.w3.org/2000/svg\" height=\"24px\"viewBox=\"0 0 24 24\"\n",
              "       width=\"24px\">\n",
              "    <path d=\"M0 0h24v24H0V0z\" fill=\"none\"/>\n",
              "    <path d=\"M18.56 5.44l.94 2.06.94-2.06 2.06-.94-2.06-.94-.94-2.06-.94 2.06-2.06.94zm-11 1L8.5 8.5l.94-2.06 2.06-.94-2.06-.94L8.5 2.5l-.94 2.06-2.06.94zm10 10l.94 2.06.94-2.06 2.06-.94-2.06-.94-.94-2.06-.94 2.06-2.06.94z\"/><path d=\"M17.41 7.96l-1.37-1.37c-.4-.4-.92-.59-1.43-.59-.52 0-1.04.2-1.43.59L10.3 9.45l-7.72 7.72c-.78.78-.78 2.05 0 2.83L4 21.41c.39.39.9.59 1.41.59.51 0 1.02-.2 1.41-.59l7.78-7.78 2.81-2.81c.8-.78.8-2.07 0-2.86zM5.41 20L4 18.59l7.72-7.72 1.47 1.35L5.41 20z\"/>\n",
              "  </svg>\n",
              "      </button>\n",
              "      \n",
              "  <style>\n",
              "    .colab-df-container {\n",
              "      display:flex;\n",
              "      flex-wrap:wrap;\n",
              "      gap: 12px;\n",
              "    }\n",
              "\n",
              "    .colab-df-convert {\n",
              "      background-color: #E8F0FE;\n",
              "      border: none;\n",
              "      border-radius: 50%;\n",
              "      cursor: pointer;\n",
              "      display: none;\n",
              "      fill: #1967D2;\n",
              "      height: 32px;\n",
              "      padding: 0 0 0 0;\n",
              "      width: 32px;\n",
              "    }\n",
              "\n",
              "    .colab-df-convert:hover {\n",
              "      background-color: #E2EBFA;\n",
              "      box-shadow: 0px 1px 2px rgba(60, 64, 67, 0.3), 0px 1px 3px 1px rgba(60, 64, 67, 0.15);\n",
              "      fill: #174EA6;\n",
              "    }\n",
              "\n",
              "    [theme=dark] .colab-df-convert {\n",
              "      background-color: #3B4455;\n",
              "      fill: #D2E3FC;\n",
              "    }\n",
              "\n",
              "    [theme=dark] .colab-df-convert:hover {\n",
              "      background-color: #434B5C;\n",
              "      box-shadow: 0px 1px 3px 1px rgba(0, 0, 0, 0.15);\n",
              "      filter: drop-shadow(0px 1px 2px rgba(0, 0, 0, 0.3));\n",
              "      fill: #FFFFFF;\n",
              "    }\n",
              "  </style>\n",
              "\n",
              "      <script>\n",
              "        const buttonEl =\n",
              "          document.querySelector('#df-113385a7-c965-418e-9bcc-80097171a5a1 button.colab-df-convert');\n",
              "        buttonEl.style.display =\n",
              "          google.colab.kernel.accessAllowed ? 'block' : 'none';\n",
              "\n",
              "        async function convertToInteractive(key) {\n",
              "          const element = document.querySelector('#df-113385a7-c965-418e-9bcc-80097171a5a1');\n",
              "          const dataTable =\n",
              "            await google.colab.kernel.invokeFunction('convertToInteractive',\n",
              "                                                     [key], {});\n",
              "          if (!dataTable) return;\n",
              "\n",
              "          const docLinkHtml = 'Like what you see? Visit the ' +\n",
              "            '<a target=\"_blank\" href=https://colab.research.google.com/notebooks/data_table.ipynb>data table notebook</a>'\n",
              "            + ' to learn more about interactive tables.';\n",
              "          element.innerHTML = '';\n",
              "          dataTable['output_type'] = 'display_data';\n",
              "          await google.colab.output.renderOutput(dataTable, element);\n",
              "          const docLink = document.createElement('div');\n",
              "          docLink.innerHTML = docLinkHtml;\n",
              "          element.appendChild(docLink);\n",
              "        }\n",
              "      </script>\n",
              "    </div>\n",
              "  </div>\n",
              "  "
            ]
          },
          "metadata": {},
          "execution_count": 62
        }
      ]
    },
    {
      "cell_type": "code",
      "source": [
        "#출고량이 높은 게임에 대한 분석 및 시각화 프로세스가 포함되어야 합니다.\n",
        "game_asc= game_all.sort_values(by=['All_Sales'], ascending=False)\n",
        "game_asc.head(20)"
      ],
      "metadata": {
        "colab": {
          "base_uri": "https://localhost:8080/",
          "height": 676
        },
        "id": "eewso4SaQG4b",
        "outputId": "9a36fe04-42a2-4680-9ee1-1ffb1fda7913"
      },
      "execution_count": null,
      "outputs": [
        {
          "output_type": "execute_result",
          "data": {
            "text/plain": [
              "                                               Name Platform    Year  \\\n",
              "2908                                     Wii Sports      Wii  2006.0   \n",
              "4199                              Super Mario Bros.      NES  1985.0   \n",
              "12579                                Mario Kart Wii      Wii  2008.0   \n",
              "3352                              Wii Sports Resort      Wii  2009.0   \n",
              "7829                       Pokemon Red/Pokemon Blue       GB  1996.0   \n",
              "1203                                         Tetris       GB  1989.0   \n",
              "6937                          New Super Mario Bros.       DS  2006.0   \n",
              "3014                                       Wii Play      Wii  2006.0   \n",
              "16531                     New Super Mario Bros. Wii      Wii  2009.0   \n",
              "10488                                     Duck Hunt      NES  1984.0   \n",
              "11137                                    Nintendogs       DS  2005.0   \n",
              "10650                                 Mario Kart DS       DS  2005.0   \n",
              "9416                    Pokemon Gold/Pokemon Silver       GB  1999.0   \n",
              "3435                                        Wii Fit      Wii  2007.0   \n",
              "10899                                  Wii Fit Plus      Wii  2009.0   \n",
              "4343                             Kinect Adventures!     X360  2010.0   \n",
              "3483                             Grand Theft Auto V      PS3  2013.0   \n",
              "14669                 Grand Theft Auto: San Andreas      PS2  2004.0   \n",
              "13111                             Super Mario World     SNES  1990.0   \n",
              "13229  Brain Age: Train Your Brain in Minutes a Day       DS  2005.0   \n",
              "\n",
              "              Genre               Publisher  NA_Sales  EU_Sales  JP_Sales  \\\n",
              "2908         Sports                Nintendo     41.49     29.02      3.77   \n",
              "4199       Platform                Nintendo     29.08      3.58      6.81   \n",
              "12579        Racing                Nintendo     15.85     12.88      3.79   \n",
              "3352         Sports                Nintendo     15.75     11.01      3.28   \n",
              "7829   Role-Playing                Nintendo     11.27      8.89     10.22   \n",
              "1203         Puzzle                Nintendo     23.20      2.26      4.22   \n",
              "6937       Platform                Nintendo     11.38      9.23      6.50   \n",
              "3014           Misc                Nintendo     14.03      9.20      2.93   \n",
              "16531      Platform                Nintendo     14.59      7.06      4.70   \n",
              "10488       Shooter                Nintendo     26.93      0.63      0.28   \n",
              "11137    Simulation                Nintendo      9.07     11.00      1.93   \n",
              "10650        Racing                Nintendo      9.81      7.57      4.13   \n",
              "9416   Role-Playing                Nintendo      9.00      6.18      7.20   \n",
              "3435         Sports                Nintendo      8.94      8.03      3.60   \n",
              "10899        Sports                Nintendo      9.09      8.59      2.53   \n",
              "4343           Misc  Microsoft Game Studios     14.97      4.94      0.24   \n",
              "3483         Action    Take-Two Interactive      7.01      9.27      0.97   \n",
              "14669        Action    Take-Two Interactive      9.43      0.40      0.41   \n",
              "13111      Platform                Nintendo     12.78      3.75      3.54   \n",
              "13229          Misc                Nintendo      4.75      9.26      4.16   \n",
              "\n",
              "       Other_Sales  All_Sales  \n",
              "2908          8.46      82.74  \n",
              "4199          0.77      40.24  \n",
              "12579         3.31      35.83  \n",
              "3352          2.96      33.00  \n",
              "7829          1.00      31.38  \n",
              "1203          0.58      30.26  \n",
              "6937          2.90      30.01  \n",
              "3014          2.85      29.01  \n",
              "16531         2.26      28.61  \n",
              "10488         0.47      28.31  \n",
              "11137         2.75      24.75  \n",
              "10650         1.92      23.43  \n",
              "9416          0.71      23.09  \n",
              "3435          2.15      22.72  \n",
              "10899         1.79      22.00  \n",
              "4343          1.67      21.82  \n",
              "3483          4.14      21.39  \n",
              "14669        10.57      20.81  \n",
              "13111         0.55      20.62  \n",
              "13229         2.05      20.22  "
            ],
            "text/html": [
              "\n",
              "  <div id=\"df-93489753-d1f4-4be1-95e8-c7d24c51584d\">\n",
              "    <div class=\"colab-df-container\">\n",
              "      <div>\n",
              "<style scoped>\n",
              "    .dataframe tbody tr th:only-of-type {\n",
              "        vertical-align: middle;\n",
              "    }\n",
              "\n",
              "    .dataframe tbody tr th {\n",
              "        vertical-align: top;\n",
              "    }\n",
              "\n",
              "    .dataframe thead th {\n",
              "        text-align: right;\n",
              "    }\n",
              "</style>\n",
              "<table border=\"1\" class=\"dataframe\">\n",
              "  <thead>\n",
              "    <tr style=\"text-align: right;\">\n",
              "      <th></th>\n",
              "      <th>Name</th>\n",
              "      <th>Platform</th>\n",
              "      <th>Year</th>\n",
              "      <th>Genre</th>\n",
              "      <th>Publisher</th>\n",
              "      <th>NA_Sales</th>\n",
              "      <th>EU_Sales</th>\n",
              "      <th>JP_Sales</th>\n",
              "      <th>Other_Sales</th>\n",
              "      <th>All_Sales</th>\n",
              "    </tr>\n",
              "  </thead>\n",
              "  <tbody>\n",
              "    <tr>\n",
              "      <th>2908</th>\n",
              "      <td>Wii Sports</td>\n",
              "      <td>Wii</td>\n",
              "      <td>2006.0</td>\n",
              "      <td>Sports</td>\n",
              "      <td>Nintendo</td>\n",
              "      <td>41.49</td>\n",
              "      <td>29.02</td>\n",
              "      <td>3.77</td>\n",
              "      <td>8.46</td>\n",
              "      <td>82.74</td>\n",
              "    </tr>\n",
              "    <tr>\n",
              "      <th>4199</th>\n",
              "      <td>Super Mario Bros.</td>\n",
              "      <td>NES</td>\n",
              "      <td>1985.0</td>\n",
              "      <td>Platform</td>\n",
              "      <td>Nintendo</td>\n",
              "      <td>29.08</td>\n",
              "      <td>3.58</td>\n",
              "      <td>6.81</td>\n",
              "      <td>0.77</td>\n",
              "      <td>40.24</td>\n",
              "    </tr>\n",
              "    <tr>\n",
              "      <th>12579</th>\n",
              "      <td>Mario Kart Wii</td>\n",
              "      <td>Wii</td>\n",
              "      <td>2008.0</td>\n",
              "      <td>Racing</td>\n",
              "      <td>Nintendo</td>\n",
              "      <td>15.85</td>\n",
              "      <td>12.88</td>\n",
              "      <td>3.79</td>\n",
              "      <td>3.31</td>\n",
              "      <td>35.83</td>\n",
              "    </tr>\n",
              "    <tr>\n",
              "      <th>3352</th>\n",
              "      <td>Wii Sports Resort</td>\n",
              "      <td>Wii</td>\n",
              "      <td>2009.0</td>\n",
              "      <td>Sports</td>\n",
              "      <td>Nintendo</td>\n",
              "      <td>15.75</td>\n",
              "      <td>11.01</td>\n",
              "      <td>3.28</td>\n",
              "      <td>2.96</td>\n",
              "      <td>33.00</td>\n",
              "    </tr>\n",
              "    <tr>\n",
              "      <th>7829</th>\n",
              "      <td>Pokemon Red/Pokemon Blue</td>\n",
              "      <td>GB</td>\n",
              "      <td>1996.0</td>\n",
              "      <td>Role-Playing</td>\n",
              "      <td>Nintendo</td>\n",
              "      <td>11.27</td>\n",
              "      <td>8.89</td>\n",
              "      <td>10.22</td>\n",
              "      <td>1.00</td>\n",
              "      <td>31.38</td>\n",
              "    </tr>\n",
              "    <tr>\n",
              "      <th>1203</th>\n",
              "      <td>Tetris</td>\n",
              "      <td>GB</td>\n",
              "      <td>1989.0</td>\n",
              "      <td>Puzzle</td>\n",
              "      <td>Nintendo</td>\n",
              "      <td>23.20</td>\n",
              "      <td>2.26</td>\n",
              "      <td>4.22</td>\n",
              "      <td>0.58</td>\n",
              "      <td>30.26</td>\n",
              "    </tr>\n",
              "    <tr>\n",
              "      <th>6937</th>\n",
              "      <td>New Super Mario Bros.</td>\n",
              "      <td>DS</td>\n",
              "      <td>2006.0</td>\n",
              "      <td>Platform</td>\n",
              "      <td>Nintendo</td>\n",
              "      <td>11.38</td>\n",
              "      <td>9.23</td>\n",
              "      <td>6.50</td>\n",
              "      <td>2.90</td>\n",
              "      <td>30.01</td>\n",
              "    </tr>\n",
              "    <tr>\n",
              "      <th>3014</th>\n",
              "      <td>Wii Play</td>\n",
              "      <td>Wii</td>\n",
              "      <td>2006.0</td>\n",
              "      <td>Misc</td>\n",
              "      <td>Nintendo</td>\n",
              "      <td>14.03</td>\n",
              "      <td>9.20</td>\n",
              "      <td>2.93</td>\n",
              "      <td>2.85</td>\n",
              "      <td>29.01</td>\n",
              "    </tr>\n",
              "    <tr>\n",
              "      <th>16531</th>\n",
              "      <td>New Super Mario Bros. Wii</td>\n",
              "      <td>Wii</td>\n",
              "      <td>2009.0</td>\n",
              "      <td>Platform</td>\n",
              "      <td>Nintendo</td>\n",
              "      <td>14.59</td>\n",
              "      <td>7.06</td>\n",
              "      <td>4.70</td>\n",
              "      <td>2.26</td>\n",
              "      <td>28.61</td>\n",
              "    </tr>\n",
              "    <tr>\n",
              "      <th>10488</th>\n",
              "      <td>Duck Hunt</td>\n",
              "      <td>NES</td>\n",
              "      <td>1984.0</td>\n",
              "      <td>Shooter</td>\n",
              "      <td>Nintendo</td>\n",
              "      <td>26.93</td>\n",
              "      <td>0.63</td>\n",
              "      <td>0.28</td>\n",
              "      <td>0.47</td>\n",
              "      <td>28.31</td>\n",
              "    </tr>\n",
              "    <tr>\n",
              "      <th>11137</th>\n",
              "      <td>Nintendogs</td>\n",
              "      <td>DS</td>\n",
              "      <td>2005.0</td>\n",
              "      <td>Simulation</td>\n",
              "      <td>Nintendo</td>\n",
              "      <td>9.07</td>\n",
              "      <td>11.00</td>\n",
              "      <td>1.93</td>\n",
              "      <td>2.75</td>\n",
              "      <td>24.75</td>\n",
              "    </tr>\n",
              "    <tr>\n",
              "      <th>10650</th>\n",
              "      <td>Mario Kart DS</td>\n",
              "      <td>DS</td>\n",
              "      <td>2005.0</td>\n",
              "      <td>Racing</td>\n",
              "      <td>Nintendo</td>\n",
              "      <td>9.81</td>\n",
              "      <td>7.57</td>\n",
              "      <td>4.13</td>\n",
              "      <td>1.92</td>\n",
              "      <td>23.43</td>\n",
              "    </tr>\n",
              "    <tr>\n",
              "      <th>9416</th>\n",
              "      <td>Pokemon Gold/Pokemon Silver</td>\n",
              "      <td>GB</td>\n",
              "      <td>1999.0</td>\n",
              "      <td>Role-Playing</td>\n",
              "      <td>Nintendo</td>\n",
              "      <td>9.00</td>\n",
              "      <td>6.18</td>\n",
              "      <td>7.20</td>\n",
              "      <td>0.71</td>\n",
              "      <td>23.09</td>\n",
              "    </tr>\n",
              "    <tr>\n",
              "      <th>3435</th>\n",
              "      <td>Wii Fit</td>\n",
              "      <td>Wii</td>\n",
              "      <td>2007.0</td>\n",
              "      <td>Sports</td>\n",
              "      <td>Nintendo</td>\n",
              "      <td>8.94</td>\n",
              "      <td>8.03</td>\n",
              "      <td>3.60</td>\n",
              "      <td>2.15</td>\n",
              "      <td>22.72</td>\n",
              "    </tr>\n",
              "    <tr>\n",
              "      <th>10899</th>\n",
              "      <td>Wii Fit Plus</td>\n",
              "      <td>Wii</td>\n",
              "      <td>2009.0</td>\n",
              "      <td>Sports</td>\n",
              "      <td>Nintendo</td>\n",
              "      <td>9.09</td>\n",
              "      <td>8.59</td>\n",
              "      <td>2.53</td>\n",
              "      <td>1.79</td>\n",
              "      <td>22.00</td>\n",
              "    </tr>\n",
              "    <tr>\n",
              "      <th>4343</th>\n",
              "      <td>Kinect Adventures!</td>\n",
              "      <td>X360</td>\n",
              "      <td>2010.0</td>\n",
              "      <td>Misc</td>\n",
              "      <td>Microsoft Game Studios</td>\n",
              "      <td>14.97</td>\n",
              "      <td>4.94</td>\n",
              "      <td>0.24</td>\n",
              "      <td>1.67</td>\n",
              "      <td>21.82</td>\n",
              "    </tr>\n",
              "    <tr>\n",
              "      <th>3483</th>\n",
              "      <td>Grand Theft Auto V</td>\n",
              "      <td>PS3</td>\n",
              "      <td>2013.0</td>\n",
              "      <td>Action</td>\n",
              "      <td>Take-Two Interactive</td>\n",
              "      <td>7.01</td>\n",
              "      <td>9.27</td>\n",
              "      <td>0.97</td>\n",
              "      <td>4.14</td>\n",
              "      <td>21.39</td>\n",
              "    </tr>\n",
              "    <tr>\n",
              "      <th>14669</th>\n",
              "      <td>Grand Theft Auto: San Andreas</td>\n",
              "      <td>PS2</td>\n",
              "      <td>2004.0</td>\n",
              "      <td>Action</td>\n",
              "      <td>Take-Two Interactive</td>\n",
              "      <td>9.43</td>\n",
              "      <td>0.40</td>\n",
              "      <td>0.41</td>\n",
              "      <td>10.57</td>\n",
              "      <td>20.81</td>\n",
              "    </tr>\n",
              "    <tr>\n",
              "      <th>13111</th>\n",
              "      <td>Super Mario World</td>\n",
              "      <td>SNES</td>\n",
              "      <td>1990.0</td>\n",
              "      <td>Platform</td>\n",
              "      <td>Nintendo</td>\n",
              "      <td>12.78</td>\n",
              "      <td>3.75</td>\n",
              "      <td>3.54</td>\n",
              "      <td>0.55</td>\n",
              "      <td>20.62</td>\n",
              "    </tr>\n",
              "    <tr>\n",
              "      <th>13229</th>\n",
              "      <td>Brain Age: Train Your Brain in Minutes a Day</td>\n",
              "      <td>DS</td>\n",
              "      <td>2005.0</td>\n",
              "      <td>Misc</td>\n",
              "      <td>Nintendo</td>\n",
              "      <td>4.75</td>\n",
              "      <td>9.26</td>\n",
              "      <td>4.16</td>\n",
              "      <td>2.05</td>\n",
              "      <td>20.22</td>\n",
              "    </tr>\n",
              "  </tbody>\n",
              "</table>\n",
              "</div>\n",
              "      <button class=\"colab-df-convert\" onclick=\"convertToInteractive('df-93489753-d1f4-4be1-95e8-c7d24c51584d')\"\n",
              "              title=\"Convert this dataframe to an interactive table.\"\n",
              "              style=\"display:none;\">\n",
              "        \n",
              "  <svg xmlns=\"http://www.w3.org/2000/svg\" height=\"24px\"viewBox=\"0 0 24 24\"\n",
              "       width=\"24px\">\n",
              "    <path d=\"M0 0h24v24H0V0z\" fill=\"none\"/>\n",
              "    <path d=\"M18.56 5.44l.94 2.06.94-2.06 2.06-.94-2.06-.94-.94-2.06-.94 2.06-2.06.94zm-11 1L8.5 8.5l.94-2.06 2.06-.94-2.06-.94L8.5 2.5l-.94 2.06-2.06.94zm10 10l.94 2.06.94-2.06 2.06-.94-2.06-.94-.94-2.06-.94 2.06-2.06.94z\"/><path d=\"M17.41 7.96l-1.37-1.37c-.4-.4-.92-.59-1.43-.59-.52 0-1.04.2-1.43.59L10.3 9.45l-7.72 7.72c-.78.78-.78 2.05 0 2.83L4 21.41c.39.39.9.59 1.41.59.51 0 1.02-.2 1.41-.59l7.78-7.78 2.81-2.81c.8-.78.8-2.07 0-2.86zM5.41 20L4 18.59l7.72-7.72 1.47 1.35L5.41 20z\"/>\n",
              "  </svg>\n",
              "      </button>\n",
              "      \n",
              "  <style>\n",
              "    .colab-df-container {\n",
              "      display:flex;\n",
              "      flex-wrap:wrap;\n",
              "      gap: 12px;\n",
              "    }\n",
              "\n",
              "    .colab-df-convert {\n",
              "      background-color: #E8F0FE;\n",
              "      border: none;\n",
              "      border-radius: 50%;\n",
              "      cursor: pointer;\n",
              "      display: none;\n",
              "      fill: #1967D2;\n",
              "      height: 32px;\n",
              "      padding: 0 0 0 0;\n",
              "      width: 32px;\n",
              "    }\n",
              "\n",
              "    .colab-df-convert:hover {\n",
              "      background-color: #E2EBFA;\n",
              "      box-shadow: 0px 1px 2px rgba(60, 64, 67, 0.3), 0px 1px 3px 1px rgba(60, 64, 67, 0.15);\n",
              "      fill: #174EA6;\n",
              "    }\n",
              "\n",
              "    [theme=dark] .colab-df-convert {\n",
              "      background-color: #3B4455;\n",
              "      fill: #D2E3FC;\n",
              "    }\n",
              "\n",
              "    [theme=dark] .colab-df-convert:hover {\n",
              "      background-color: #434B5C;\n",
              "      box-shadow: 0px 1px 3px 1px rgba(0, 0, 0, 0.15);\n",
              "      filter: drop-shadow(0px 1px 2px rgba(0, 0, 0, 0.3));\n",
              "      fill: #FFFFFF;\n",
              "    }\n",
              "  </style>\n",
              "\n",
              "      <script>\n",
              "        const buttonEl =\n",
              "          document.querySelector('#df-93489753-d1f4-4be1-95e8-c7d24c51584d button.colab-df-convert');\n",
              "        buttonEl.style.display =\n",
              "          google.colab.kernel.accessAllowed ? 'block' : 'none';\n",
              "\n",
              "        async function convertToInteractive(key) {\n",
              "          const element = document.querySelector('#df-93489753-d1f4-4be1-95e8-c7d24c51584d');\n",
              "          const dataTable =\n",
              "            await google.colab.kernel.invokeFunction('convertToInteractive',\n",
              "                                                     [key], {});\n",
              "          if (!dataTable) return;\n",
              "\n",
              "          const docLinkHtml = 'Like what you see? Visit the ' +\n",
              "            '<a target=\"_blank\" href=https://colab.research.google.com/notebooks/data_table.ipynb>data table notebook</a>'\n",
              "            + ' to learn more about interactive tables.';\n",
              "          element.innerHTML = '';\n",
              "          dataTable['output_type'] = 'display_data';\n",
              "          await google.colab.output.renderOutput(dataTable, element);\n",
              "          const docLink = document.createElement('div');\n",
              "          docLink.innerHTML = docLinkHtml;\n",
              "          element.appendChild(docLink);\n",
              "        }\n",
              "      </script>\n",
              "    </div>\n",
              "  </div>\n",
              "  "
            ]
          },
          "metadata": {},
          "execution_count": 65
        }
      ]
    },
    {
      "cell_type": "code",
      "source": [
        "#상위권 게임은 대부분 닌텐도가 만들었으며"
      ],
      "metadata": {
        "id": "OMxI-Dl5S6ZS"
      },
      "execution_count": null,
      "outputs": []
    },
    {
      "cell_type": "code",
      "source": [
        "game_100 = game_asc.head(100)"
      ],
      "metadata": {
        "id": "bDCfJCG-S-c-"
      },
      "execution_count": null,
      "outputs": []
    },
    {
      "cell_type": "code",
      "source": [
        ""
      ],
      "metadata": {
        "id": "N1NZEWf-e1id"
      },
      "execution_count": null,
      "outputs": []
    },
    {
      "cell_type": "markdown",
      "source": [
        "가설검정: 연도에 따라 판매량이 크거나 같다\n",
        "\n",
        "대립가설: 연도에 따라 판매량이 줄어든다. "
      ],
      "metadata": {
        "id": "qufCHlLAeUv_"
      }
    }
  ]
}